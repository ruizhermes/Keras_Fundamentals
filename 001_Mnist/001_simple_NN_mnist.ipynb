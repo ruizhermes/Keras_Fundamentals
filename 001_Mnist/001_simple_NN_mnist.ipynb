{
 "cells": [
  {
   "cell_type": "code",
   "execution_count": 1,
   "metadata": {
    "tags": []
   },
   "outputs": [
    {
     "output_type": "stream",
     "name": "stderr",
     "text": "Using TensorFlow backend.\n"
    }
   ],
   "source": [
    "from keras.datasets import mnist\n",
    "from keras import models\n",
    "from keras import layers\n",
    "\n",
    "from keras.utils import to_categorical  \n"
   ]
  },
  {
   "cell_type": "code",
   "execution_count": 11,
   "metadata": {},
   "outputs": [],
   "source": [
    "(train_x, train_y), (test_x, test_y) = mnist.load_data()"
   ]
  },
  {
   "cell_type": "markdown",
   "metadata": {},
   "source": [
    "### Checking and obtaining the data shapes and sizes"
   ]
  },
  {
   "cell_type": "code",
   "execution_count": 13,
   "metadata": {
    "tags": []
   },
   "outputs": [
    {
     "output_type": "stream",
     "name": "stdout",
     "text": "(60000, 28, 28)\n"
    }
   ],
   "source": [
    "no_train_x = train_x.shape[0]\n",
    "img_size_width = train_x.shape[1]\n",
    "img_size_height = train_x.shape[2]\n",
    "\n",
    "no_test_x = test_x.shape[0]\n",
    "print(str(train_x.shape))"
   ]
  },
  {
   "cell_type": "markdown",
   "metadata": {},
   "source": [
    "### Creating a 2 layer network \n",
    "\n",
    "-  One layer with 512 neurons\n",
    "-  One output layer with 10 neurons \n"
   ]
  },
  {
   "cell_type": "code",
   "execution_count": 5,
   "metadata": {
    "tags": []
   },
   "outputs": [
    {
     "output_type": "stream",
     "name": "stdout",
     "text": "WARNING:tensorflow:From /home/hermes/.virtualenvs/dl_proj/local/lib/python2.7/site-packages/keras/backend/tensorflow_backend.py:66: The name tf.get_default_graph is deprecated. Please use tf.compat.v1.get_default_graph instead.\n\nWARNING:tensorflow:From /home/hermes/.virtualenvs/dl_proj/local/lib/python2.7/site-packages/keras/backend/tensorflow_backend.py:541: The name tf.placeholder is deprecated. Please use tf.compat.v1.placeholder instead.\n\nWARNING:tensorflow:From /home/hermes/.virtualenvs/dl_proj/local/lib/python2.7/site-packages/keras/backend/tensorflow_backend.py:4432: The name tf.random_uniform is deprecated. Please use tf.random.uniform instead.\n\n"
    }
   ],
   "source": [
    "    nn = models.Sequential()\n",
    "    nn.add(layers.Dense(512, activation='relu', input_shape=(28*28, )))\n",
    "    nn.add(layers.Dense(10, activation='softmax'))"
   ]
  },
  {
   "cell_type": "markdown",
   "metadata": {},
   "source": [
    "### Making the NN ready for training\n",
    "\n",
    "- we neeed the **loss function**\n",
    "- the optimizer \n",
    "- and the metric used to monitor the training "
   ]
  },
  {
   "cell_type": "code",
   "execution_count": 6,
   "metadata": {
    "tags": []
   },
   "outputs": [
    {
     "output_type": "stream",
     "name": "stdout",
     "text": "WARNING:tensorflow:From /home/hermes/.virtualenvs/dl_proj/local/lib/python2.7/site-packages/keras/optimizers.py:793: The name tf.train.Optimizer is deprecated. Please use tf.compat.v1.train.Optimizer instead.\n\nWARNING:tensorflow:From /home/hermes/.virtualenvs/dl_proj/local/lib/python2.7/site-packages/keras/backend/tensorflow_backend.py:3576: The name tf.log is deprecated. Please use tf.math.log instead.\n\n"
    }
   ],
   "source": [
    "    nn.compile(optimizer='rmsprop', loss='categorical_crossentropy', metrics=['accuracy'])"
   ]
  },
  {
   "cell_type": "markdown",
   "metadata": {},
   "source": [
    "### Reshaping the Data\n",
    "\n",
    "This is done so that the data matches the input of the network"
   ]
  },
  {
   "cell_type": "code",
   "execution_count": 14,
   "metadata": {
    "tags": []
   },
   "outputs": [
    {
     "output_type": "stream",
     "name": "stdout",
     "text": "(60000, 784)\n"
    }
   ],
   "source": [
    "# Reshaping \n",
    "\n",
    "train_x = train_x.reshape(no_train_x, img_size_width * img_size_height )\n",
    "train_x = train_x.astype('float32')/255\n",
    "\n",
    "test_x = test_x.reshape(no_test_x, img_size_width * img_size_height )\n",
    "test_x = test_x.astype('float32')/255\n",
    "\n",
    "train_y = to_categorical(train_y)\n",
    "test_y  = to_categorical(test_y)\n",
    "\n",
    "print(train_x.shape)"
   ]
  },
  {
   "cell_type": "markdown",
   "metadata": {},
   "source": [
    "### Training the Network \n",
    "\n",
    "We pass:\n",
    "\n",
    "    - trining data set\n",
    "    - training labels (Y)\n",
    "    - number of epochs\n",
    "    - batch size\n",
    "\n",
    "When the function fit() is called, the network will start to iterate\n",
    "on the training data in mini-batches of 128 samples, 10 times over over\n",
    "or whatever the number of epochs. "
   ]
  },
  {
   "cell_type": "code",
   "execution_count": 8,
   "metadata": {
    "tags": []
   },
   "outputs": [
    {
     "output_type": "stream",
     "name": "stdout",
     "text": "WARNING:tensorflow:From /home/hermes/.virtualenvs/dl_proj/local/lib/python2.7/site-packages/tensorflow/python/ops/math_grad.py:1250: where (from tensorflow.python.ops.array_ops) is deprecated and will be removed in a future version.\nInstructions for updating:\nUse tf.where in 2.0, which has the same broadcast rule as np.where\nWARNING:tensorflow:From /home/hermes/.virtualenvs/dl_proj/local/lib/python2.7/site-packages/keras/backend/tensorflow_backend.py:1033: The name tf.assign_add is deprecated. Please use tf.compat.v1.assign_add instead.\n\nEpoch 1/10\n60000/60000 [==============================] - 9s 149us/step - loss: 0.2569 - acc: 0.9261\nEpoch 2/10\n60000/60000 [==============================] - 9s 145us/step - loss: 0.1028 - acc: 0.9697\nEpoch 3/10\n60000/60000 [==============================] - 8s 127us/step - loss: 0.0666 - acc: 0.9806\nEpoch 4/10\n60000/60000 [==============================] - 7s 124us/step - loss: 0.0496 - acc: 0.9846\nEpoch 5/10\n60000/60000 [==============================] - 7s 117us/step - loss: 0.0372 - acc: 0.9891\nEpoch 6/10\n60000/60000 [==============================] - 7s 121us/step - loss: 0.0288 - acc: 0.9912\nEpoch 7/10\n60000/60000 [==============================] - 7s 118us/step - loss: 0.0221 - acc: 0.9930\nEpoch 8/10\n60000/60000 [==============================] - 7s 122us/step - loss: 0.0164 - acc: 0.9954\nEpoch 9/10\n60000/60000 [==============================] - 8s 132us/step - loss: 0.0125 - acc: 0.9966\nEpoch 10/10\n60000/60000 [==============================] - 8s 129us/step - loss: 0.0100 - acc: 0.9969\n"
    },
    {
     "output_type": "execute_result",
     "data": {
      "text/plain": "<keras.callbacks.History at 0x7effa8c87d10>"
     },
     "metadata": {},
     "execution_count": 8
    }
   ],
   "source": [
    "nn.fit(train_x, train_y, epochs=10, batch_size=128)"
   ]
  },
  {
   "cell_type": "code",
   "execution_count": null,
   "metadata": {},
   "outputs": [],
   "source": []
  }
 ],
 "metadata": {
  "language_info": {
   "codemirror_mode": {
    "name": "ipython",
    "version": 2
   },
   "file_extension": ".py",
   "mimetype": "text/x-python",
   "name": "python",
   "nbconvert_exporter": "python",
   "pygments_lexer": "ipython2",
   "version": "2.7.12-final"
  },
  "orig_nbformat": 2,
  "kernelspec": {
   "name": "python271264bitdlprojvirtualenvf8beb71de42748b287dc5120750401b0",
   "display_name": "Python 2.7.12 64-bit ('dl_proj': virtualenv)"
  }
 },
 "nbformat": 4,
 "nbformat_minor": 2
}