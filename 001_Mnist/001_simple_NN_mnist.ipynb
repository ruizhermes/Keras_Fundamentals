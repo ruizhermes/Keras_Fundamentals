{
 "cells": [
  {
   "cell_type": "code",
   "execution_count": null,
   "metadata": {
    "tags": []
   },
   "outputs": [],
   "source": [
    "# from keras.datasets import mnist\n",
    "# from keras import models\n",
    "# from keras import layers\n",
    "\n",
    "# from keras.utils import to_categorical  \n"
   ]
  },
  {
   "cell_type": "code",
   "execution_count": null,
   "metadata": {},
   "outputs": [],
   "source": [
    "from tensorflow.keras.datasets import mnist\n",
    "from tensorflow.keras import models\n",
    "from tensorflow.keras import layers\n",
    "\n",
    "from tensorflow.keras.utils import to_categorical"
   ]
  },
  {
   "cell_type": "code",
   "execution_count": null,
   "metadata": {},
   "outputs": [],
   "source": [
    "(train_x, train_y), (test_x, test_y) = mnist.load_data()"
   ]
  },
  {
   "cell_type": "markdown",
   "metadata": {},
   "source": [
    "### Checking and obtaining the data shapes and sizes"
   ]
  },
  {
   "cell_type": "code",
   "execution_count": null,
   "metadata": {
    "tags": []
   },
   "outputs": [],
   "source": [
    "no_train_x = train_x.shape[0]\n",
    "img_size_width = train_x.shape[1]\n",
    "img_size_height = train_x.shape[2]\n",
    "\n",
    "no_test_x = test_x.shape[0]\n",
    "print(str(train_x.shape))"
   ]
  },
  {
   "cell_type": "markdown",
   "metadata": {},
   "source": [
    "### Creating a 2 layer network \n",
    "\n",
    "-  One layer with 512 neurons\n",
    "-  One output layer with 10 neurons \n"
   ]
  },
  {
   "cell_type": "code",
   "execution_count": null,
   "metadata": {
    "tags": []
   },
   "outputs": [],
   "source": [
    "    nn = models.Sequential()\n",
    "    nn.add(layers.Dense(512, activation='relu', input_shape=(28*28, )))\n",
    "    nn.add(layers.Dense(10, activation='softmax'))"
   ]
  },
  {
   "cell_type": "markdown",
   "metadata": {},
   "source": [
    "### Making the NN ready for training\n",
    "\n",
    "- we neeed the **loss function**\n",
    "- the optimizer \n",
    "- and the metric used to monitor the training "
   ]
  },
  {
   "cell_type": "code",
   "execution_count": null,
   "metadata": {
    "tags": []
   },
   "outputs": [],
   "source": [
    "    nn.compile(optimizer='rmsprop', loss='categorical_crossentropy', metrics=['accuracy'])"
   ]
  },
  {
   "cell_type": "markdown",
   "metadata": {},
   "source": [
    "### Reshaping the Data\n",
    "\n",
    "This is done so that the data matches the input of the network"
   ]
  },
  {
   "cell_type": "code",
   "execution_count": null,
   "metadata": {
    "tags": []
   },
   "outputs": [],
   "source": [
    "# Reshaping \n",
    "\n",
    "train_x = train_x.reshape(no_train_x, img_size_width * img_size_height )\n",
    "train_x = train_x.astype('float32')/255\n",
    "\n",
    "test_x = test_x.reshape(no_test_x, img_size_width * img_size_height )\n",
    "test_x = test_x.astype('float32')/255\n",
    "\n",
    "train_y = to_categorical(train_y)\n",
    "test_y  = to_categorical(test_y)\n",
    "\n",
    "print(train_x.shape)"
   ]
  },
  {
   "cell_type": "markdown",
   "metadata": {},
   "source": [
    "### Training the Network \n",
    "\n",
    "We pass:\n",
    "\n",
    "    - trining data set\n",
    "    - training labels (Y)\n",
    "    - number of epochs\n",
    "    - batch size\n",
    "\n",
    "When the function fit() is called, the network will start to iterate\n",
    "on the training data in mini-batches of 128 samples, 10 times over over\n",
    "or whatever the number of epochs. "
   ]
  },
  {
   "cell_type": "code",
   "execution_count": null,
   "metadata": {
    "tags": []
   },
   "outputs": [],
   "source": [
    "nn.fit(train_x, train_y, epochs=10, batch_size=128)"
   ]
  },
  {
   "cell_type": "code",
   "execution_count": null,
   "metadata": {},
   "outputs": [],
   "source": [
    "results = nn.evaluate(test_x, test_y)"
   ]
  }
 ],
 "metadata": {
  "language_info": {
   "codemirror_mode": {
    "name": "ipython",
    "version": 2
   },
   "file_extension": ".py",
   "mimetype": "text/x-python",
   "name": "python",
   "nbconvert_exporter": "python",
   "pygments_lexer": "ipython2",
   "version": "2.7.12-final"
  },
  "orig_nbformat": 2,
  "kernelspec": {
   "name": "python271264bitdlprojvirtualenvf8beb71de42748b287dc5120750401b0",
   "display_name": "Python 2.7.12 64-bit ('dl_proj': virtualenv)",
   "language": "python"
  }
 },
 "nbformat": 4,
 "nbformat_minor": 2
}