{
 "metadata": {
  "language_info": {
   "codemirror_mode": {
    "name": "ipython",
    "version": 3
   },
   "file_extension": ".py",
   "mimetype": "text/x-python",
   "name": "python",
   "nbconvert_exporter": "python",
   "pygments_lexer": "ipython3",
   "version": "2.7.12-final"
  },
  "orig_nbformat": 2,
  "kernelspec": {
   "name": "python2712jvsc74a57bd084e04324d3fd3e37daed942d2ecb2c2ce76b06791e0c2368c0a93758a06cccc9",
   "display_name": "Python 2.7.12 64-bit ('dl_proj')"
  },
  "metadata": {
   "interpreter": {
    "hash": "84e04324d3fd3e37daed942d2ecb2c2ce76b06791e0c2368c0a93758a06cccc9"
   }
  }
 },
 "nbformat": 4,
 "nbformat_minor": 2,
 "cells": [
  {
   "source": [
    "## Goal:\n",
    "   - To built a NN to classify Reuters newswire into 46 topics (categories)\n",
    "   - This is a multiclass classification problem for text\n",
    "   - Reuters data set published in 1986\n"
   ],
   "cell_type": "markdown",
   "metadata": {}
  },
  {
   "cell_type": "code",
   "execution_count": 24,
   "metadata": {},
   "outputs": [],
   "source": [
    "from tensorflow.keras.datasets import reuters\n",
    "from tensorflow.keras import models\n",
    "from tensorflow.keras import layers\n",
    "from tensorflow.keras import optimizers\n",
    "from tensorflow.keras.utils import to_categorical\n",
    "\n",
    "import numpy as np"
   ]
  },
  {
   "cell_type": "code",
   "execution_count": 3,
   "metadata": {},
   "outputs": [
    {
     "output_type": "stream",
     "name": "stdout",
     "text": [
      "Downloading data from https://storage.googleapis.com/tensorflow/tf-keras-datasets/reuters.npz\n",
      "2113536/2110848 [==============================] - 0s 0us/step\n",
      "2121728/2110848 [==============================] - 0s 0us/step\n"
     ]
    }
   ],
   "source": [
    "# Each example is a list of integers (word indices)\n",
    "(train_data, train_labels), (test_data, test_labels) = reuters.load_data(num_words=10000)"
   ]
  },
  {
   "cell_type": "code",
   "execution_count": 11,
   "metadata": {},
   "outputs": [],
   "source": [
    "# Decoding the example integers to words\n",
    "\n",
    "word_index = reuters.get_word_index()\n",
    "reverse_word_index = dict([(value, key) for (key, value) in word_index.items()])\n",
    "decoded_newswire = ' '.join([reverse_word_index.get(i -3, '?') for i in train_data[0]])"
   ]
  },
  {
   "cell_type": "code",
   "execution_count": 19,
   "metadata": {},
   "outputs": [],
   "source": [
    "# Vectorizing data function\n",
    "\n",
    "def vectorize_sequence(sequences, dimensions=10000):\n",
    "    results = np.zeros((len(sequences), dimensions))\n",
    "    for i, sequence in enumerate(sequences):\n",
    "        results[i, sequence] = 1\n",
    "    return results"
   ]
  },
  {
   "cell_type": "code",
   "execution_count": 20,
   "metadata": {},
   "outputs": [],
   "source": [
    "# One-Hot encoding function\n",
    "\n",
    "def to_one_hot(labels, dimension=46):\n",
    "    results = np.zeros((len(labels), dimension))\n",
    "\n",
    "    for i, label in enumerate(labels):\n",
    "        results[i, label] = 1.\n",
    "\n",
    "    return results\n"
   ]
  },
  {
   "cell_type": "code",
   "execution_count": 26,
   "metadata": {},
   "outputs": [],
   "source": [
    "#Vectorizing data \n",
    "\n",
    "x_train = vectorize_sequence(train_data)\n",
    "x_test  = vectorize_sequence(test_data)\n"
   ]
  },
  {
   "cell_type": "code",
   "execution_count": 23,
   "metadata": {},
   "outputs": [
    {
     "output_type": "execute_result",
     "data": {
      "text/plain": [
       "array([0., 0., 0., 1., 0., 0., 0., 0., 0., 0., 0., 0., 0., 0., 0., 0., 0.,\n",
       "       0., 0., 0., 0., 0., 0., 0., 0., 0., 0., 0., 0., 0., 0., 0., 0., 0.,\n",
       "       0., 0., 0., 0., 0., 0., 0., 0., 0., 0., 0., 0.])"
      ]
     },
     "metadata": {},
     "execution_count": 23
    }
   ],
   "source": [
    "one_hot_train_labels[0]"
   ]
  },
  {
   "cell_type": "code",
   "execution_count": 31,
   "metadata": {},
   "outputs": [],
   "source": [
    "\n",
    "# one hot train labels using function\n",
    "one_hot_train_labels = to_one_hot(train_labels)\n",
    "\n",
    "\n",
    "# Using Keras one-hot built-in function \n",
    "\n",
    "one_hot_train_labels = to_categorical(train_labels)\n",
    "one_hot_test_labels  = to_categorical(test_labels)\n",
    "\n",
    "\n",
    "# separte 1000 samples from the training data set for validation\n",
    "# and use the rest for training \n",
    "x_val = x_train[:1000]\n",
    "partial_x_train = x_train[1000:]\n",
    "\n",
    "y_val = one_hot_train_labels[:1000]\n",
    "partial_y_train = one_hot_train_labels[1000:]\n"
   ]
  },
  {
   "cell_type": "code",
   "execution_count": 50,
   "metadata": {},
   "outputs": [],
   "source": [
    "# Building the NN \n",
    "\n",
    "model = models.Sequential()\n",
    "model.add(layers.Dense(64, activation='relu', input_shape=(10000,)))\n",
    "model.add(layers.Dense(64, activation='relu'))\n",
    "model.add(layers.Dense(46, activation='softmax'))\n",
    "\n",
    "\n",
    "model.compile(optimizer='rmsprop', loss='categorical_crossentropy', metrics=['accuracy'])"
   ]
  },
  {
   "cell_type": "code",
   "execution_count": 51,
   "metadata": {},
   "outputs": [
    {
     "output_type": "stream",
     "name": "stdout",
     "text": [
      "Train on 7982 samples, validate on 1000 samples\n",
      "Epoch 1/20\n",
      "7982/7982 [==============================] - 2s 227us/sample - loss: 2.6604 - accuracy: 0.5226 - val_loss: 1.7386 - val_accuracy: 0.6370\n",
      "Epoch 2/20\n",
      "7982/7982 [==============================] - 1s 147us/sample - loss: 1.4177 - accuracy: 0.7032 - val_loss: 1.3043 - val_accuracy: 0.7220\n",
      "Epoch 3/20\n",
      "7982/7982 [==============================] - 1s 150us/sample - loss: 1.0437 - accuracy: 0.7709 - val_loss: 1.1604 - val_accuracy: 0.7510\n",
      "Epoch 4/20\n",
      "7982/7982 [==============================] - 1s 158us/sample - loss: 0.8285 - accuracy: 0.8190 - val_loss: 1.0496 - val_accuracy: 0.7630\n",
      "Epoch 5/20\n",
      "7982/7982 [==============================] - 1s 150us/sample - loss: 0.6631 - accuracy: 0.8611 - val_loss: 1.0681 - val_accuracy: 0.7610\n",
      "Epoch 6/20\n",
      "7982/7982 [==============================] - 1s 151us/sample - loss: 0.5298 - accuracy: 0.8879 - val_loss: 0.9379 - val_accuracy: 0.7980\n",
      "Epoch 7/20\n",
      "7982/7982 [==============================] - 1s 151us/sample - loss: 0.4303 - accuracy: 0.9078 - val_loss: 0.8971 - val_accuracy: 0.8210\n",
      "Epoch 8/20\n",
      "7982/7982 [==============================] - 1s 151us/sample - loss: 0.3491 - accuracy: 0.9262 - val_loss: 0.8734 - val_accuracy: 0.8110\n",
      "Epoch 9/20\n",
      "7982/7982 [==============================] - 1s 152us/sample - loss: 0.2896 - accuracy: 0.9382 - val_loss: 0.8881 - val_accuracy: 0.8090\n",
      "Epoch 10/20\n",
      "7982/7982 [==============================] - 1s 150us/sample - loss: 0.2475 - accuracy: 0.9431 - val_loss: 0.9096 - val_accuracy: 0.8070\n",
      "Epoch 11/20\n",
      "7982/7982 [==============================] - 1s 152us/sample - loss: 0.2130 - accuracy: 0.9480 - val_loss: 0.9040 - val_accuracy: 0.8020\n",
      "Epoch 12/20\n",
      "7982/7982 [==============================] - 1s 153us/sample - loss: 0.1863 - accuracy: 0.9513 - val_loss: 0.9625 - val_accuracy: 0.8000\n",
      "Epoch 13/20\n",
      "7982/7982 [==============================] - 1s 151us/sample - loss: 0.1645 - accuracy: 0.9544 - val_loss: 0.9879 - val_accuracy: 0.8020\n",
      "Epoch 14/20\n",
      "7982/7982 [==============================] - 1s 156us/sample - loss: 0.1535 - accuracy: 0.9545 - val_loss: 0.9349 - val_accuracy: 0.8150\n",
      "Epoch 15/20\n",
      "7982/7982 [==============================] - 1s 153us/sample - loss: 0.1489 - accuracy: 0.9540 - val_loss: 0.9649 - val_accuracy: 0.8010\n",
      "Epoch 16/20\n",
      "7982/7982 [==============================] - 1s 147us/sample - loss: 0.1321 - accuracy: 0.9558 - val_loss: 0.9632 - val_accuracy: 0.8140\n",
      "Epoch 17/20\n",
      "7982/7982 [==============================] - 1s 151us/sample - loss: 0.1266 - accuracy: 0.9584 - val_loss: 1.0263 - val_accuracy: 0.8030\n",
      "Epoch 18/20\n",
      "7982/7982 [==============================] - 1s 151us/sample - loss: 0.1223 - accuracy: 0.9570 - val_loss: 1.0207 - val_accuracy: 0.8060\n",
      "Epoch 19/20\n",
      "7982/7982 [==============================] - 1s 158us/sample - loss: 0.1182 - accuracy: 0.9560 - val_loss: 1.0652 - val_accuracy: 0.7970\n",
      "Epoch 20/20\n",
      "7982/7982 [==============================] - 1s 173us/sample - loss: 0.1136 - accuracy: 0.9579 - val_loss: 1.0472 - val_accuracy: 0.8060\n"
     ]
    }
   ],
   "source": [
    "# training the network \n",
    "\n",
    "history = model.fit(partial_x_train, partial_y_train, epochs=20, batch_size=520, validation_data=(x_val, y_val))"
   ]
  },
  {
   "cell_type": "code",
   "execution_count": 52,
   "metadata": {},
   "outputs": [
    {
     "output_type": "display_data",
     "data": {
      "image/png": "[encoded data removed]",
      "text/plain": "<Figure size 432x288 with 1 Axes>"
     },
     "metadata": {
      "needs_background": "light"
     }
    }
   ],
   "source": [
    "# Ploting Loss and Accuracy \n",
    "\n",
    "import matplotlib.pyplot as plt \n",
    "\n",
    "\n",
    "\n",
    "loss = history.history['loss']\n",
    "val_loss = history.history['val_loss']\n",
    "\n",
    "epochs = range(1, len(loss)+1)\n",
    "\n",
    "plt.plot(epochs, loss, 'bo', label='Training Loss')\n",
    "plt.plot(epochs, val_loss, 'r', label='Validation Loss')\n",
    "\n",
    "plt.title('Training and Validation Loss')\n",
    "plt.xlabel('Epochs')\n",
    "plt.ylabel('Loss')\n",
    "plt.legend()\n",
    "\n",
    "plt.show()"
   ]
  },
  {
   "cell_type": "code",
   "execution_count": 53,
   "metadata": {},
   "outputs": [
    {
     "output_type": "display_data",
     "data": {
      "image/png": "[encoded data removed]",
      "text/plain": "<Figure size 432x288 with 1 Axes>"
     },
     "metadata": {
      "needs_background": "light"
     }
    }
   ],
   "source": [
    "# Plotting the Training Accuracy and Validation Accuracy\n",
    "\n",
    "training_accuracy = history.history['accuracy']\n",
    "val_accuracy      = history.history['val_accuracy']\n",
    "\n",
    "plt.plot(epochs, training_accuracy, 'bo', label='Training Accuracy')\n",
    "plt.plot(epochs, val_accuracy, 'r', label='Validation Accuracy')\n",
    "\n",
    "plt.title('Training and Validation accuracy')\n",
    "plt.xlabel('Epochs')\n",
    "plt.ylabel('Accuracy')\n",
    "plt.legend()\n",
    "\n",
    "plt.show()"
   ]
  },
  {
   "cell_type": "code",
   "execution_count": 54,
   "metadata": {},
   "outputs": [
    {
     "output_type": "stream",
     "name": "stdout",
     "text": [
      "2246/2246 [==============================] - 0s 153us/sample - loss: 1.2431 - accuracy: 0.7854\n"
     ]
    },
    {
     "output_type": "execute_result",
     "data": {
      "text/plain": [
       "[1.2430950279015043, 0.7853963]"
      ]
     },
     "metadata": {},
     "execution_count": 54
    }
   ],
   "source": [
    "# Evaluate the model\n",
    "\n",
    "results = model.evaluate(x_test, one_hot_test_labels)\n",
    "results"
   ]
  },
  {
   "cell_type": "code",
   "execution_count": null,
   "metadata": {},
   "outputs": [],
   "source": []
  }
 ]
}